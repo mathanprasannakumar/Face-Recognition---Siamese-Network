{
 "cells": [
  {
   "cell_type": "code",
   "execution_count": 1,
   "id": "c4cd86dc-ea91-48b7-8353-bd4ea7222cac",
   "metadata": {},
   "outputs": [
    {
     "name": "stderr",
     "output_type": "stream",
     "text": [
      "2023-07-06 21:16:24.098558: I tensorflow/tsl/cuda/cudart_stub.cc:28] Could not find cuda drivers on your machine, GPU will not be used.\n",
      "2023-07-06 21:16:24.125788: I tensorflow/tsl/cuda/cudart_stub.cc:28] Could not find cuda drivers on your machine, GPU will not be used.\n",
      "2023-07-06 21:16:24.126453: I tensorflow/core/platform/cpu_feature_guard.cc:182] This TensorFlow binary is optimized to use available CPU instructions in performance-critical operations.\n",
      "To enable the following instructions: AVX2 FMA, in other operations, rebuild TensorFlow with the appropriate compiler flags.\n",
      "2023-07-06 21:16:24.780578: W tensorflow/compiler/tf2tensorrt/utils/py_utils.cc:38] TF-TRT Warning: Could not find TensorRT\n"
     ]
    }
   ],
   "source": [
    "import os\n",
    "import pickle\n",
    "import time\n",
    "import pandas as pd\n",
    "import numpy as np\n",
    "import tensorflow as tf\n",
    "from sklearn.model_selection import train_test_split\n",
    "from tensorflow.keras import Input, Sequential, Model\n",
    "from tensorflow.keras import backend as K\n",
    "from tensorflow.keras.callbacks import EarlyStopping\n",
    "from tensorflow.keras.layers import Conv2D, MaxPooling2D, Flatten, Dense, Lambda, BatchNormalization, Activation, \\\n",
    "    Dropout\n",
    "from tensorflow.keras.regularizers import l2\n",
    "from tensorflow.keras.optimizers import Adam\n"
   ]
  },
  {
   "cell_type": "code",
   "execution_count": 23,
   "id": "78e57675-b797-4421-8b87-f38de8b8937e",
   "metadata": {},
   "outputs": [
    {
     "name": "stdout",
     "output_type": "stream",
     "text": [
      "Loaded Siamese Network\n"
     ]
    }
   ],
   "source": [
    "class SiameseNetwork(object):\n",
    "    \n",
    "    def __init__(self, seed, width, height, cells, loss, metrics, optimizer, dropout_rate):\n",
    "        \"\"\"\n",
    "        Seed - The seed used to initialize the weights\n",
    "        width, height, cells - used for defining the tensors used for the input images\n",
    "        loss, metrics, optimizer, dropout_rate - settings used for compiling the siamese model (e.g., 'Accuracy' and 'ADAM)\n",
    "        \"\"\"\n",
    "        K.clear_session()\n",
    "        self.load_file = \"weights.h5\"\n",
    "        self.seed = seed\n",
    "        self.initialize_seed()\n",
    "        self.optimizer = optimizer\n",
    "\n",
    "        # Define the matrices for the input images\n",
    "        input_shape = (width, height, cells)\n",
    "        left_input = Input(input_shape)\n",
    "        right_input = Input(input_shape)\n",
    "\n",
    "        # Get the CNN architecture as presented in the paper (read the readme for more information)\n",
    "        model = self._get_architecture(input_shape)\n",
    "        encoded_l = model(left_input)\n",
    "        encoded_r = model(right_input)\n",
    "\n",
    "        # Add a layer to combine the two CNNs\n",
    "        L1_layer = Lambda(lambda tensors: K.abs(tensors[0] - tensors[1]))\n",
    "        L1_siamese_dist = L1_layer([encoded_l, encoded_r])\n",
    "        L1_siamese_dist = Dropout(dropout_rate)(L1_siamese_dist)\n",
    "\n",
    "        # An output layer with Sigmoid activation function\n",
    "        prediction = Dense(1, activation='sigmoid', bias_initializer=self.initialize_bias)(L1_siamese_dist)\n",
    "\n",
    "        siamese_net = Model(inputs=[left_input, right_input], outputs=prediction)\n",
    "        self.siamese_net = siamese_net\n",
    "        self.siamese_net.compile(loss=loss, optimizer=optimizer, metrics=metrics)\n",
    "\n",
    "    def initialize_seed(self):\n",
    "        \"\"\"\n",
    "        Initialize seed all for environment\n",
    "        \"\"\"\n",
    "        os.environ['PYTHONHASHSEED'] = str(self.seed)\n",
    "        random.seed(self.seed)\n",
    "        np.random.seed(self.seed)\n",
    "        tf.random.set_seed(self.seed)\n",
    "\n",
    "    def initialize_weights(self, shape, dtype=None):\n",
    "        \"\"\"\n",
    "        Called when initializing the weights of the siamese model, uses the random_normal function of keras to return a\n",
    "        tensor with a normal distribution of weights.\n",
    "        \"\"\"\n",
    "        return K.random_normal(shape, mean=0.0, stddev=0.01, dtype=dtype, seed=self.seed)\n",
    "\n",
    "    def initialize_bias(self, shape, dtype=None):\n",
    "        \"\"\"\n",
    "        Called when initializing the biases of the siamese model, uses the random_normal function of keras to return a\n",
    "        tensor with a normal distribution of weights.\n",
    "        \"\"\"\n",
    "        return K.random_normal(shape, mean=0.5, stddev=0.01, dtype=dtype, seed=self.seed)\n",
    "\n",
    "    def _get_architecture(self, input_shape):\n",
    "        \"\"\"\n",
    "        Returns a Convolutional Neural Network based on the input shape given of the images. This is the CNN network\n",
    "        that is used inside the siamese model. Uses parameters from the siamese one shot paper.\n",
    "        \"\"\"\n",
    "        model = Sequential()\n",
    "        model.add(\n",
    "            Conv2D(filters=64,\n",
    "                   kernel_size=(10, 10),\n",
    "                   input_shape=input_shape,\n",
    "                   kernel_initializer=self.initialize_weights,\n",
    "                   kernel_regularizer=l2(2e-4),\n",
    "                   name='Conv1'\n",
    "                   ))\n",
    "        model.add(BatchNormalization())\n",
    "        model.add(Activation(\"relu\"))\n",
    "        model.add(MaxPooling2D())\n",
    "\n",
    "        model.add(\n",
    "            Conv2D(filters=128,\n",
    "                   kernel_size=(7, 7),\n",
    "                   kernel_initializer=self.initialize_weights,\n",
    "                   bias_initializer=self.initialize_bias,\n",
    "                   kernel_regularizer=l2(2e-4),\n",
    "                   name='Conv2'\n",
    "                   ))\n",
    "        model.add(BatchNormalization())\n",
    "        model.add(Activation(\"relu\"))\n",
    "        model.add(MaxPooling2D())\n",
    "\n",
    "        model.add(\n",
    "            Conv2D(filters=128,\n",
    "                   kernel_size=(4, 4),\n",
    "                   kernel_initializer=self.initialize_weights,\n",
    "                   bias_initializer=self.initialize_bias,\n",
    "                   kernel_regularizer=l2(2e-4),\n",
    "                   name='Conv3'\n",
    "                   ))\n",
    "        model.add(BatchNormalization())\n",
    "        model.add(Activation(\"relu\"))\n",
    "        model.add(MaxPooling2D())\n",
    "\n",
    "        model.add(\n",
    "            Conv2D(filters=256,\n",
    "                   kernel_size=(4, 4),\n",
    "                   kernel_initializer=self.initialize_weights,\n",
    "                   bias_initializer=self.initialize_bias,\n",
    "                   kernel_regularizer=l2(2e-4),\n",
    "                   name='Conv4'\n",
    "                   ))\n",
    "        model.add(BatchNormalization())\n",
    "        model.add(Activation(\"relu\"))\n",
    "\n",
    "        model.add(Flatten())\n",
    "        model.add(\n",
    "            Dense(4096,\n",
    "                  activation='sigmoid',\n",
    "                  kernel_initializer=self.initialize_weights,\n",
    "                  kernel_regularizer=l2(2e-3),\n",
    "                  bias_initializer=self.initialize_bias))\n",
    "        return model\n",
    "\n",
    "    def _load_weights(self, weights_file):\n",
    "        \"\"\"\n",
    "        A function that attempts to load pre-existing weight files for the siamese model. If it succeeds then returns\n",
    "        True and updates the weights, otherwise False.\n",
    "        :return True if the file is already exists\n",
    "        \"\"\"\n",
    "        # self.siamese_net.summary()\n",
    "        self.load_file = weights_file\n",
    "        if os.path.exists(weights_file):  # if the file is already exists, load and return true\n",
    "            print('Loading pre-existed weights file')\n",
    "            self.siamese_net.load_weights(weights_file)\n",
    "            return True\n",
    "        return False\n",
    "\n",
    "    def fit(self, weights_file, train_path, validation_size, batch_size, epochs, early_stopping, patience, min_delta):\n",
    "        \"\"\"\n",
    "        Function for fitting the model. If the weights already exist, just return the summary of the model. Otherwise,\n",
    "        perform a whole train/validation/test split and train the model with the given parameters.\n",
    "        \"\"\"\n",
    "        with open(train_path, 'rb') as f:\n",
    "            x_train, y_train, names = pickle.load(f)\n",
    "            \n",
    "        x_train_0, x_val_0, y_train_0, y_val_0 = train_test_split(x_train[0], y_train,\n",
    "                                                                  test_size=validation_size,\n",
    "                                                                  random_state=self.seed)\n",
    "        x_train_1, x_val_1, y_train_1, y_val_1 = train_test_split(x_train[1], y_train,\n",
    "                                                                  test_size=validation_size,\n",
    "                                                                  random_state=self.seed)\n",
    "        x_train_0 = np.array(x_train_0, dtype='float64')\n",
    "        x_val_0 = np.array(x_val_0, dtype='float64')\n",
    "        x_train_1 = np.array(x_train_1, dtype='float64')\n",
    "        x_val_1 = np.array(x_val_1, dtype='float64')\n",
    "        x_train = [x_train_0, x_train_1]\n",
    "        x_val = [x_val_0, x_val_1]\n",
    "        if y_train_0 != y_train_1 and y_val_0 != y_val_1:\n",
    "            raise Exception(\"y train lists or y validation list do not equal\")\n",
    "        y_train_both = np.array(y_train_0, dtype='float64')\n",
    "        y_val_both = np.array(y_val_0, dtype='float64')\n",
    "        if not self._load_weights(weights_file=weights_file):\n",
    "            print('No such pre-existed weights file')\n",
    "            print('Beginning to fit the model')\n",
    "            callback = []\n",
    "            if early_stopping:\n",
    "                es = EarlyStopping(monitor='val_loss', min_delta=min_delta, patience=patience, mode='auto', verbose=1)\n",
    "                callback.append(es)\n",
    "            self.siamese_net.fit(x_train, y_train_both, batch_size=batch_size, epochs=epochs,\n",
    "                                 validation_data=(x_val, y_val_both), callbacks=callback, verbose=1)\n",
    "            self.siamese_net.save(\"saved_model\")\n",
    "        # evaluate on the testing set\n",
    "        loss, accuracy = self.siamese_net.evaluate(x_val, y_val_both, batch_size=batch_size)\n",
    "        print(f'Loss on Validation set: {loss}')\n",
    "        print(f'Accuracy on Validation set: {accuracy}')\n",
    "\n",
    "    def evaluate(self, test_file, batch_size):\n",
    "        \"\"\"\n",
    "        Function for evaluating the final model after training.\n",
    "        test_file - file path to the test file.\n",
    "        batch_size - the batch size used in training.\n",
    "\n",
    "        Returns the loss and accuracy results.\n",
    "        \"\"\"\n",
    "        with open(test_file, 'rb') as f:\n",
    "            x_test, y_test, names = pickle.load(f)\n",
    "        print(f'Available Metrics: {self.siamese_net.metrics_names}')\n",
    "        y_test = np.array(y_test, dtype='float64')\n",
    "        x_test[0] = np.array(x_test[0], dtype='float64')\n",
    "        x_test[1] = np.array(x_test[1], dtype='float64')\n",
    "        # evaluate on the test set\n",
    "        loss, accuracy = self.siamese_net.evaluate(x_test, y_test, batch_size=batch_size)\n",
    "        return loss, accuracy\n",
    "        \n",
    "print(\"Loaded Siamese Network\")"
   ]
  },
  {
   "cell_type": "code",
   "execution_count": 27,
   "id": "8099bc66-4b5d-4ddc-9432-5b9804f04ae1",
   "metadata": {},
   "outputs": [
    {
     "name": "stderr",
     "output_type": "stream",
     "text": [
      "WARNING:absl:`lr` is deprecated in Keras optimizer, please use `learning_rate` or use the legacy optimizer, e.g.,tf.keras.optimizers.legacy.Adam.\n"
     ]
    },
    {
     "name": "stdout",
     "output_type": "stream",
     "text": [
      "posix\n",
      "Starting the experiments\n",
      "Running combination with seed_0_lr_5e-05_bs_32_ep_10_val_0.2_es_True_pa_5_md_0.01\n",
      "No such pre-existed weights file\n",
      "Beginning to fit the model\n",
      "Epoch 1/10\n",
      "55/55 [==============================] - 228s 4s/step - loss: 5.3273 - accuracy: 0.5869 - val_loss: 2.7880 - val_accuracy: 0.6386\n",
      "Epoch 2/10\n",
      "55/55 [==============================] - 224s 4s/step - loss: 1.8418 - accuracy: 0.6432 - val_loss: 1.3280 - val_accuracy: 0.6750\n",
      "Epoch 3/10\n",
      "55/55 [==============================] - 233s 4s/step - loss: 1.2396 - accuracy: 0.6574 - val_loss: 1.1899 - val_accuracy: 0.6386\n",
      "Epoch 4/10\n",
      "55/55 [==============================] - 233s 4s/step - loss: 1.1000 - accuracy: 0.6881 - val_loss: 1.1669 - val_accuracy: 0.6545\n",
      "Epoch 5/10\n",
      "55/55 [==============================] - 223s 4s/step - loss: 1.1838 - accuracy: 0.6767 - val_loss: 1.2787 - val_accuracy: 0.6318\n",
      "Epoch 6/10\n",
      "55/55 [==============================] - 214s 4s/step - loss: 1.1585 - accuracy: 0.6949 - val_loss: 1.1550 - val_accuracy: 0.6341\n",
      "Epoch 7/10\n",
      "55/55 [==============================] - 233s 4s/step - loss: 1.1826 - accuracy: 0.6892 - val_loss: 1.3233 - val_accuracy: 0.6023\n",
      "Epoch 8/10\n",
      "55/55 [==============================] - 211s 4s/step - loss: 1.1813 - accuracy: 0.7051 - val_loss: 1.2193 - val_accuracy: 0.6636\n",
      "Epoch 9/10\n",
      "55/55 [==============================] - 209s 4s/step - loss: 1.1701 - accuracy: 0.7142 - val_loss: 1.3016 - val_accuracy: 0.6432\n",
      "Epoch 10/10\n",
      "55/55 [==============================] - 209s 4s/step - loss: 1.1665 - accuracy: 0.6994 - val_loss: 1.2587 - val_accuracy: 0.6205\n"
     ]
    },
    {
     "name": "stderr",
     "output_type": "stream",
     "text": [
      "2023-07-06 20:22:24.211758: I tensorflow/core/common_runtime/executor.cc:1197] [/device:CPU:0] (DEBUG INFO) Executor start aborting (this does not indicate an error and you can ignore this message): INVALID_ARGUMENT: You must feed a value for placeholder tensor 'inputs' with dtype float and shape [?,4096]\n",
      "\t [[{{node inputs}}]]\n",
      "2023-07-06 20:22:24.871701: I tensorflow/core/common_runtime/executor.cc:1197] [/device:CPU:0] (DEBUG INFO) Executor start aborting (this does not indicate an error and you can ignore this message): INVALID_ARGUMENT: You must feed a value for placeholder tensor 'inputs' with dtype float and shape [?,4096]\n",
      "\t [[{{node inputs}}]]\n",
      "WARNING:absl:Found untraced functions such as _update_step_xla, _jit_compiled_convolution_op, _jit_compiled_convolution_op, _jit_compiled_convolution_op, _jit_compiled_convolution_op while saving (showing 5 of 5). These functions will not be directly callable after loading.\n"
     ]
    },
    {
     "name": "stdout",
     "output_type": "stream",
     "text": [
      "INFO:tensorflow:Assets written to: saved_model/assets\n"
     ]
    },
    {
     "name": "stderr",
     "output_type": "stream",
     "text": [
      "INFO:tensorflow:Assets written to: saved_model/assets\n"
     ]
    },
    {
     "name": "stdout",
     "output_type": "stream",
     "text": [
      "14/14 [==============================] - 7s 473ms/step - loss: 1.2587 - accuracy: 0.6205\n",
      "Loss on Validation set: 1.2586919069290161\n",
      "Accuracy on Validation set: 0.6204545497894287\n",
      "Available Metrics: ['loss', 'accuracy']\n",
      "32/32 [==============================] - 16s 486ms/step - loss: 1.2694 - accuracy: 0.6020\n",
      "Loss on Testing set: 1.2693830728530884\n",
      "Accuracy on Testing set: 0.6019999980926514\n",
      "Total Running Time: 2249.836026906967\n"
     ]
    }
   ],
   "source": [
    "\n",
    "train_name = 'train'\n",
    "test_name = 'test'\n",
    "WIDTH = HEIGHT = 105\n",
    "CEELS = 1\n",
    "loss_type = \"binary_crossentropy\"\n",
    "validation_size = 0.2\n",
    "early_stopping = True\n",
    "\n",
    "data_path = 'dataset'\n",
    "os.environ['TF_CPP_MIN_LOG_LEVEL'] = '2'\n",
    "\n",
    "\n",
    "def run_combination(l, bs, ep, pat, md, seed, train_path, test_path):\n",
    "    \"\"\"\n",
    "    This function gets the parameters and run the experiment.\n",
    "    :return: loss - loss on the testing set, accuracy - accuracy on the testing set\n",
    "    \"\"\"\n",
    "    # file types\n",
    "    model_save_type = 'h5'\n",
    "    # files paths\n",
    "    initialize_seed(seed)\n",
    "    parameters_name = f'seed_{seed}_lr_{l}_bs_{bs}_ep_{ep}_val_{validation_size}_' \\\n",
    "                      f'es_{early_stopping}_pa_{pat}_md_{md}'\n",
    "    print(f'Running combination with {parameters_name}')\n",
    "    # A path for the weights\n",
    "    load_weights_path = os.path.join('weights', f'weights_{parameters_name}.{model_save_type}')\n",
    "\n",
    "    siamese = SiameseNetwork(seed=seed, width=WIDTH, height=HEIGHT, cells=CEELS, loss=loss_type, metrics=['accuracy'],\n",
    "                             optimizer=Adam(lr=l), dropout_rate=0.4)\n",
    "    siamese.fit(weights_file=load_weights_path, train_path=train_path, validation_size=validation_size,\n",
    "                batch_size=bs, epochs=ep, early_stopping=early_stopping, patience=pat,\n",
    "                min_delta=md)\n",
    "    loss, accuracy = siamese.evaluate(test_file=test_path, batch_size=bs)\n",
    "    print(f'Loss on Testing set: {loss}')\n",
    "    print(f'Accuracy on Testing set: {accuracy}')\n",
    "    # predict_pairs(model)\n",
    "    return loss, accuracy\n",
    "\n",
    "\n",
    "def run():\n",
    "    \"\"\"\n",
    "    The main function that runs the training and experiments. Uses the global variables above.\n",
    "    \"\"\"\n",
    "    # file types\n",
    "    data_set_save_type = 'pickle'\n",
    "    train_path = os.path.join(data_path, f'{train_name}.{data_set_save_type}')  # A path for the train file\n",
    "    test_path = os.path.join(data_path, f'{test_name}.{data_set_save_type}')  # A path for the test file\n",
    "    result_path = os.path.join(data_path, f'results.csv')  # A path for the train file\n",
    "    results = {'lr': [], 'batch_size': [], 'epochs': [], 'patience': [], 'min_delta': [], 'seed': [], 'loss': [],\n",
    "               'accuracy': []}\n",
    "    for l in lr:\n",
    "        for bs in batch_size:\n",
    "            for ep in epochs:\n",
    "                for pat in patience:\n",
    "                    for md in min_delta:\n",
    "                        for seed in seeds:\n",
    "                            loss, accuracy = run_combination(l=l, bs=bs, ep=ep, pat=pat, md=md, seed=seed,\n",
    "                                                             train_path=train_path, test_path=test_path)\n",
    "                            results['lr'].append(l)\n",
    "                            results['batch_size'].append(bs)\n",
    "                            results['epochs'].append(ep)\n",
    "                            results['patience'].append(pat)\n",
    "                            results['min_delta'].append(md)\n",
    "                            results['seed'].append(seed)\n",
    "                            results['loss'].append(loss)\n",
    "                            results['accuracy'].append(accuracy)\n",
    "    df_results = pd.DataFrame.from_dict(results)\n",
    "    df_results.to_csv(result_path)\n",
    "\n",
    "\n",
    "def initialize_seed(seed):\n",
    "    \"\"\"\n",
    "    Initialize all relevant environments with the seed.\n",
    "    \"\"\"\n",
    "    os.environ['PYTHONHASHSEED'] = str(seed)\n",
    "    random.seed(seed)\n",
    "    np.random.seed(seed)\n",
    "    tf.random.set_seed(seed)\n",
    "\n",
    "\n",
    "if __name__ == '__main__':  if( cv2.waitKey(1) & 0XFF == ord('v')):\n",
    "                print('v is pressed')\n",
    "                anchor,frame =preprocess(frame)\n",
    "                if( model.predict([anchor,frame])>=0.5):\n",
    "                    print(True)\n",
    "    \n",
    "    seeds = [0]\n",
    "    lr = [0.00005]\n",
    "    batch_size = [32]\n",
    "    epochs = [10]\n",
    "    patience = [5]\n",
    "    min_delta = [0.01]\n",
    "\n",
    "    print(os.name)\n",
    "    start_time = time.time()\n",
    "    print('Starting the experiments')\n",
    "    run()\n",
    "    print(f'Total Running Time: {time.time() - start_time}')"
   ]
  },
  {
   "cell_type": "code",
   "execution_count": 14,
   "id": "6c168c52-fd77-4b72-9900-87d48cab5afe",
   "metadata": {},
   "outputs": [
    {
     "data": {
      "image/png": "[encoded data removed]",
      "text/plain": [
       "<IPython.core.display.Image object>"
      ]
     },
     "execution_count": 14,
     "metadata": {},
     "output_type": "execute_result"
    }
   ],
   "source": [
    "tf.keras.utils.plot_model(model,\"model.png\")"
   ]
  },
  {
   "cell_type": "code",
   "execution_count": 2,
   "id": "b95faf89-4fe7-4850-ada0-e920efe38673",
   "metadata": {},
   "outputs": [
    {
     "name": "stderr",
     "output_type": "stream",
     "text": [
      "2023-07-06 21:16:35.459279: W tensorflow/tsl/framework/cpu_allocator_impl.cc:83] Allocation of 150994944 exceeds 10% of free system memory.\n",
      "2023-07-06 21:16:35.479886: W tensorflow/tsl/framework/cpu_allocator_impl.cc:83] Allocation of 150994944 exceeds 10% of free system memory.\n",
      "2023-07-06 21:16:35.479947: W tensorflow/tsl/framework/cpu_allocator_impl.cc:83] Allocation of 150994944 exceeds 10% of free system memory.\n"
     ]
    }
   ],
   "source": [
    "model = tf.keras.models.load_model('saved_model')"
   ]
  },
  {
   "cell_type": "code",
   "execution_count": 71,
   "id": "74a9cb07-e408-4335-86ac-034ab10b31e2",
   "metadata": {},
   "outputs": [
    {
     "name": "stdout",
     "output_type": "stream",
     "text": [
      "1/1 [==============================] - 0s 198ms/step\n"
     ]
    },
    {
     "data": {
      "text/plain": [
       "array([[0.30333441]], dtype=float32)"
      ]
     },
     "execution_count": 71,
     "metadata": {},
     "output_type": "execute_result"
    }
   ],
   "source": [
    "model.predict([img1,img2])"
   ]
  },
  {
   "cell_type": "code",
   "execution_count": 3,
   "id": "51b4fdb7-d3ac-45c9-a8ff-a5f5f3c56b7c",
   "metadata": {},
   "outputs": [],
   "source": [
    "import cv2\n",
    "import numpy as np"
   ]
  },
  {
   "cell_type": "code",
   "execution_count": 4,
   "id": "6a4d9512-07f6-4e36-a9d5-425803d74623",
   "metadata": {},
   "outputs": [],
   "source": [
    "from PIL import Image,ImageOps"
   ]
  },
  {
   "cell_type": "code",
   "execution_count": null,
   "id": "551b668f-c335-418c-b859-fb2239a74769",
   "metadata": {},
   "outputs": [],
   "source": []
  },
  {
   "cell_type": "code",
   "execution_count": 70,
   "id": "0adcf2d7-112b-4dbf-a09b-de6910ab96ec",
   "metadata": {},
   "outputs": [],
   "source": [
    "img2 = np.expand_dims(np.expand_dims(img2,0),3)"
   ]
  },
  {
   "cell_type": "code",
   "execution_count": 12,
   "id": "a2815ad1-af44-4b35-ab2b-d6ad53683280",
   "metadata": {},
   "outputs": [
    {
     "name": "stdout",
     "output_type": "stream",
     "text": [
      "v is pressed\n",
      "Same person\n",
      "v is pressed\n",
      "Same person\n",
      "v is pressed\n",
      "Same person\n",
      "v is pressed\n",
      "Same person\n",
      "v is pressed\n",
      "Same person\n",
      "v is pressed\n",
      "Same person\n",
      "v is pressed\n",
      "Same person\n",
      "v is pressed\n",
      "Same person\n",
      "v is pressed\n",
      "Same person\n",
      "v is pressed\n",
      "Same person\n",
      "v is pressed\n",
      "Same person\n",
      "v is pressed\n",
      "Same person\n",
      "v is pressed\n",
      "Same person\n",
      "v is pressed\n",
      "Same person\n",
      "v is pressed\n",
      "Same person\n",
      "v is pressed\n",
      "Same person\n",
      "v is pressed\n",
      "Same person\n",
      "v is pressed\n",
      "Same person\n",
      "v is pressed\n",
      "Same person\n",
      "v is pressed\n",
      "Same person\n",
      "v is pressed\n",
      "Same person\n",
      "v is pressed\n",
      "Same person\n",
      "v is pressed\n",
      "Same person\n",
      "v is pressed\n",
      "Differant person\n",
      "v is pressed\n",
      "Differant person\n",
      "v is pressed\n",
      "Differant person\n",
      "v is pressed\n",
      "Differant person\n",
      "v is pressed\n",
      "Same person\n",
      "v is pressed\n",
      "Same person\n",
      "v is pressed\n",
      "Same person\n",
      "v is pressed\n",
      "Same person\n",
      "v is pressed\n",
      "Same person\n",
      "v is pressed\n",
      "Same person\n",
      "v is pressed\n",
      "Same person\n",
      "v is pressed\n",
      "Same person\n",
      "v is pressed\n",
      "Same person\n",
      "v is pressed\n",
      "Same person\n"
     ]
    }
   ],
   "source": [
    "cam = cv2.VideoCapture(0)\n",
    "\n",
    "while cam.isOpened():\n",
    "    ret,frame = cam.read()\n",
    "    if ret:\n",
    "        cv2.imshow(\"frame\",frame)\n",
    "        try:\n",
    "            if( cv2.waitKey(1) & 0XFF == ord('v')):\n",
    "                print('v is pressed')\n",
    "                anchor,frame =preprocess(frame)\n",
    "                if( model.predict([anchor,frame],verbose=0)>=0.5):\n",
    "                    print(\"Same person\")\n",
    "                else:\n",
    "                    print(\"Differant person\")\n",
    "        except:\n",
    "            pass\n",
    "        if(cv2.waitKey(1) & 0XFF == ord('q')):\n",
    "                break\n",
    "            \n",
    "\n",
    "cam.release()\n",
    "cv2.destroyAllWindows()\n",
    "        "
   ]
  },
  {
   "cell_type": "code",
   "execution_count": 10,
   "id": "e209df25-e1f2-4a60-b0f3-8f37d365ecbf",
   "metadata": {},
   "outputs": [],
   "source": [
    "def preprocess(frame,anchor = 'profile.jpeg'):\n",
    "    anchor =np.expand_dims(np.expand_dims(np.asarray(ImageOps.grayscale(Image.open(anchor)).resize((105,105)),dtype='float32'),0),3)\n",
    "    frame = np.expand_dims(np.expand_dims(np.asarray(ImageOps.grayscale(Image.fromarray(frame)).resize((105,105)),dtype='float32'),0),3)\n",
    "    return anchor,frame\n",
    "    "
   ]
  },
  {
   "cell_type": "code",
   "execution_count": null,
   "id": "5c789217-7a74-408f-8756-fb6be22a29fc",
   "metadata": {},
   "outputs": [],
   "source": []
  },
  {
   "cell_type": "code",
   "execution_count": 109,
   "id": "0a1cb87a-7032-4769-9a23-f7375bd15159",
   "metadata": {},
   "outputs": [],
   "source": [
    "frame = np.expand_dims(np.expand_dims(np.asarray(ImageOps.grayscale(Image.fromarray(frame)).resize((105,105)),dtype='float32'),0),3)"
   ]
  },
  {
   "cell_type": "code",
   "execution_count": 112,
   "id": "29bd51b9-cb07-4dc2-8635-06d95641aec5",
   "metadata": {
    "scrolled": true
   },
   "outputs": [
    {
     "name": "stdout",
     "output_type": "stream",
     "text": [
      "1/1 [==============================] - 0s 70ms/step\n"
     ]
    },
    {
     "data": {
      "text/plain": [
       "array([[0.42412263]], dtype=float32)"
      ]
     },
     "execution_count": 112,
     "metadata": {},
     "output_type": "execute_result"
    }
   ],
   "source": [
    "model.predict([frame,anchor])"
   ]
  },
  {
   "cell_type": "code",
   "execution_count": 110,
   "id": "6a30ca67-5ef9-4566-9bb9-8dc8cc3ad11c",
   "metadata": {},
   "outputs": [
    {
     "data": {
      "text/plain": [
       "(1, 105, 105, 1)"
      ]
     },
     "execution_count": 110,
     "metadata": {},
     "output_type": "execute_result"
    }
   ],
   "source": [
    "frame.shape"
   ]
  },
  {
   "cell_type": "code",
   "execution_count": 111,
   "id": "3df00e91-251c-4c46-b30a-1e642b86c1f2",
   "metadata": {},
   "outputs": [
    {
     "data": {
      "text/plain": [
       "(1, 105, 105, 1)"
      ]
     },
     "execution_count": 111,
     "metadata": {},
     "output_type": "execute_result"
    }
   ],
   "source": [
    "anchor.shape"
   ]
  },
  {
   "cell_type": "code",
   "execution_count": null,
   "id": "2ae79656-0e57-4adc-ad2c-673871c5df55",
   "metadata": {},
   "outputs": [],
   "source": []
  },
  {
   "cell_type": "code",
   "execution_count": null,
   "id": "8369034e-2c8b-420d-bc68-818783340186",
   "metadata": {},
   "outputs": [],
   "source": []
  },
  {
   "cell_type": "code",
   "execution_count": null,
   "id": "57f33df2-71d6-448a-bbd7-290d9d8b900f",
   "metadata": {},
   "outputs": [],
   "source": []
  },
  {
   "cell_type": "code",
   "execution_count": null,
   "id": "ca4e453e-05b1-494c-a30d-0918d2c685f5",
   "metadata": {},
   "outputs": [],
   "source": []
  },
  {
   "cell_type": "code",
   "execution_count": null,
   "id": "f625684f-c380-4bc8-b512-d9f836b93dbc",
   "metadata": {},
   "outputs": [],
   "source": []
  },
  {
   "cell_type": "code",
   "execution_count": null,
   "id": "b083dbfa-060c-4581-afcf-314fd898f723",
   "metadata": {},
   "outputs": [],
   "source": []
  },
  {
   "cell_type": "code",
   "execution_count": null,
   "id": "989ef08d-76c6-47b3-8bb3-f46dbe42a12f",
   "metadata": {},
   "outputs": [],
   "source": []
  },
  {
   "cell_type": "code",
   "execution_count": null,
   "id": "d5fdd403-64e0-49b8-8ff2-ee8d59da6ebf",
   "metadata": {},
   "outputs": [],
   "source": []
  },
  {
   "cell_type": "code",
   "execution_count": null,
   "id": "266de2f4-2303-47db-b1d5-ca8caaf8a9d0",
   "metadata": {},
   "outputs": [],
   "source": []
  },
  {
   "cell_type": "code",
   "execution_count": null,
   "id": "ffabb9ee-9566-4f80-a255-7593794fbeed",
   "metadata": {},
   "outputs": [],
   "source": []
  },
  {
   "cell_type": "code",
   "execution_count": null,
   "id": "d4a606c1-636f-4066-aeeb-1b5264e7a27b",
   "metadata": {},
   "outputs": [],
   "source": []
  },
  {
   "cell_type": "code",
   "execution_count": null,
   "id": "16bec9d0-6199-4b97-99ba-382fb774d11c",
   "metadata": {},
   "outputs": [],
   "source": []
  },
  {
   "cell_type": "code",
   "execution_count": null,
   "id": "c457390a-5d0a-4a6e-8d79-dd2bd9481096",
   "metadata": {},
   "outputs": [],
   "source": []
  },
  {
   "cell_type": "code",
   "execution_count": null,
   "id": "b7415e25-4cb9-4532-a8b9-88be89456ad1",
   "metadata": {},
   "outputs": [],
   "source": []
  },
  {
   "cell_type": "code",
   "execution_count": null,
   "id": "04ad827d-ed95-4b0d-b4a5-68d3097e0d5c",
   "metadata": {},
   "outputs": [],
   "source": []
  },
  {
   "cell_type": "code",
   "execution_count": null,
   "id": "9e1582ed-136c-4b87-a1f6-130754a7c6b0",
   "metadata": {},
   "outputs": [],
   "source": []
  },
  {
   "cell_type": "code",
   "execution_count": null,
   "id": "1f16ba4b-692b-4b73-8685-7c7435402b70",
   "metadata": {},
   "outputs": [],
   "source": []
  },
  {
   "cell_type": "code",
   "execution_count": null,
   "id": "50822712-c8bf-4917-aec2-c2e482e3b7bf",
   "metadata": {},
   "outputs": [],
   "source": []
  },
  {
   "cell_type": "code",
   "execution_count": null,
   "id": "b61bad9d-53b9-40b4-8eef-5167ccad7594",
   "metadata": {},
   "outputs": [],
   "source": []
  },
  {
   "cell_type": "code",
   "execution_count": null,
   "id": "7188e3c9-e06c-4b92-aab5-b870872d7a1a",
   "metadata": {},
   "outputs": [],
   "source": []
  },
  {
   "cell_type": "code",
   "execution_count": null,
   "id": "c322106a-dbdd-4471-a91d-bde9d1668da8",
   "metadata": {},
   "outputs": [],
   "source": []
  },
  {
   "cell_type": "code",
   "execution_count": null,
   "id": "2623a8b4-698d-48ce-89a3-c9cdab4317dc",
   "metadata": {},
   "outputs": [],
   "source": []
  }
 ],
 "metadata": {
  "kernelspec": {
   "display_name": "Python 3 (ipykernel)",
   "language": "python",
   "name": "python3"
  },
  "language_info": {
   "codemirror_mode": {
    "name": "ipython",
    "version": 3
   },
   "file_extension": ".py",
   "mimetype": "text/x-python",
   "name": "python",
   "nbconvert_exporter": "python",
   "pygments_lexer": "ipython3",
   "version": "3.10.10"
  }
 },
 "nbformat": 4,
 "nbformat_minor": 5
}
